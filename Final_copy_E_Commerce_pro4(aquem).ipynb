{
  "nbformat": 4,
  "nbformat_minor": 0,
  "metadata": {
    "colab": {
      "provenance": []
    },
    "kernelspec": {
      "name": "python3",
      "display_name": "Python 3"
    },
    "language_info": {
      "name": "python"
    }
  },
  "cells": [
    {
      "cell_type": "code",
      "execution_count": null,
      "metadata": {
        "id": "hhgDVisEIFFg"
      },
      "outputs": [],
      "source": []
    },
    {
      "cell_type": "markdown",
      "source": [
        "#**Importing Tools**"
      ],
      "metadata": {
        "id": "AmzXyyCLIZTb"
      }
    },
    {
      "cell_type": "code",
      "source": [
        "import pandas as pd\n",
        "import numpy as np\n",
        "import pandas as pd\n",
        "import matplotlib.pyplot as plt\n",
        "import seaborn as sns\n",
        "import sklearn.metrics as metrics\n",
        "import scipy.stats as stats\n",
        "\n",
        "import warnings\n",
        "warnings.filterwarnings(\"ignore\")"
      ],
      "metadata": {
        "id": "W3NBjIelIf7Y"
      },
      "execution_count": 1,
      "outputs": []
    },
    {
      "cell_type": "markdown",
      "source": [
        "Loading Data"
      ],
      "metadata": {
        "id": "QGO46wtfLwyK"
      }
    },
    {
      "cell_type": "code",
      "source": [
        "# Loading the dataset\n",
        "file_path = \"/content/sample_data/customer.csv\"\n",
        "file_path = \"/content/sample_data/purchase.csv\"\n",
        "\n",
        "df_c= pd.read_csv(file_path)\n",
        "df_p = pd.read_csv(file_path)"
      ],
      "metadata": {
        "id": "euJdwIg4L011"
      },
      "execution_count": 2,
      "outputs": []
    },
    {
      "cell_type": "code",
      "source": [
        "# Viewing first few rows\n",
        "df_c.head()"
      ],
      "metadata": {
        "colab": {
          "base_uri": "https://localhost:8080/",
          "height": 206
        },
        "id": "7OOVDOVRMb-F",
        "outputId": "69e72bff-2ec4-49a1-8c4c-93037ef1e4bc"
      },
      "execution_count": 3,
      "outputs": [
        {
          "output_type": "execute_result",
          "data": {
            "text/plain": [
              "     order_id customer_id product_name  \\\n",
              "0  ODSHP00001     CS00001    Furniture   \n",
              "1  ODSHP00002     CS00002        Dress   \n",
              "2  ODSHP00003     CS00003    Furniture   \n",
              "3  ODSHP00004     CS00004        Shoes   \n",
              "4  ODSHP00005     CS00005         Rugs   \n",
              "\n",
              "                                         description    price  discount   tax  \\\n",
              "0  Transform your space with this stylish and fun...   645.52      0.37  0.02   \n",
              "1   Look and feel your best with this elegant dress.    28.90      0.05  0.02   \n",
              "2  Transform your space with this stylish and fun...  3536.49      0.21  0.04   \n",
              "3    Step out in style with these fashionable shoes.    97.80      0.11  0.08   \n",
              "4  Add warmth and texture to your floors with the...  1785.38      0.13  0.00   \n",
              "\n",
              "   order_date  quantity  shipping_cost shipping_date  \n",
              "0  26-05-2020         9           8.91    29-05-2020  \n",
              "1  29-12-2022         9          13.95    29-12-2022  \n",
              "2  06-03-2021         3          36.42    06-03-2021  \n",
              "3  11-03-2020         7           9.35    13-03-2020  \n",
              "4  12-03-2022         7           8.55    15-03-2022  "
            ],
            "text/html": [
              "\n",
              "  <div id=\"df-a41861ea-b1da-4f66-a325-b51d7c56acb6\" class=\"colab-df-container\">\n",
              "    <div>\n",
              "<style scoped>\n",
              "    .dataframe tbody tr th:only-of-type {\n",
              "        vertical-align: middle;\n",
              "    }\n",
              "\n",
              "    .dataframe tbody tr th {\n",
              "        vertical-align: top;\n",
              "    }\n",
              "\n",
              "    .dataframe thead th {\n",
              "        text-align: right;\n",
              "    }\n",
              "</style>\n",
              "<table border=\"1\" class=\"dataframe\">\n",
              "  <thead>\n",
              "    <tr style=\"text-align: right;\">\n",
              "      <th></th>\n",
              "      <th>order_id</th>\n",
              "      <th>customer_id</th>\n",
              "      <th>product_name</th>\n",
              "      <th>description</th>\n",
              "      <th>price</th>\n",
              "      <th>discount</th>\n",
              "      <th>tax</th>\n",
              "      <th>order_date</th>\n",
              "      <th>quantity</th>\n",
              "      <th>shipping_cost</th>\n",
              "      <th>shipping_date</th>\n",
              "    </tr>\n",
              "  </thead>\n",
              "  <tbody>\n",
              "    <tr>\n",
              "      <th>0</th>\n",
              "      <td>ODSHP00001</td>\n",
              "      <td>CS00001</td>\n",
              "      <td>Furniture</td>\n",
              "      <td>Transform your space with this stylish and fun...</td>\n",
              "      <td>645.52</td>\n",
              "      <td>0.37</td>\n",
              "      <td>0.02</td>\n",
              "      <td>26-05-2020</td>\n",
              "      <td>9</td>\n",
              "      <td>8.91</td>\n",
              "      <td>29-05-2020</td>\n",
              "    </tr>\n",
              "    <tr>\n",
              "      <th>1</th>\n",
              "      <td>ODSHP00002</td>\n",
              "      <td>CS00002</td>\n",
              "      <td>Dress</td>\n",
              "      <td>Look and feel your best with this elegant dress.</td>\n",
              "      <td>28.90</td>\n",
              "      <td>0.05</td>\n",
              "      <td>0.02</td>\n",
              "      <td>29-12-2022</td>\n",
              "      <td>9</td>\n",
              "      <td>13.95</td>\n",
              "      <td>29-12-2022</td>\n",
              "    </tr>\n",
              "    <tr>\n",
              "      <th>2</th>\n",
              "      <td>ODSHP00003</td>\n",
              "      <td>CS00003</td>\n",
              "      <td>Furniture</td>\n",
              "      <td>Transform your space with this stylish and fun...</td>\n",
              "      <td>3536.49</td>\n",
              "      <td>0.21</td>\n",
              "      <td>0.04</td>\n",
              "      <td>06-03-2021</td>\n",
              "      <td>3</td>\n",
              "      <td>36.42</td>\n",
              "      <td>06-03-2021</td>\n",
              "    </tr>\n",
              "    <tr>\n",
              "      <th>3</th>\n",
              "      <td>ODSHP00004</td>\n",
              "      <td>CS00004</td>\n",
              "      <td>Shoes</td>\n",
              "      <td>Step out in style with these fashionable shoes.</td>\n",
              "      <td>97.80</td>\n",
              "      <td>0.11</td>\n",
              "      <td>0.08</td>\n",
              "      <td>11-03-2020</td>\n",
              "      <td>7</td>\n",
              "      <td>9.35</td>\n",
              "      <td>13-03-2020</td>\n",
              "    </tr>\n",
              "    <tr>\n",
              "      <th>4</th>\n",
              "      <td>ODSHP00005</td>\n",
              "      <td>CS00005</td>\n",
              "      <td>Rugs</td>\n",
              "      <td>Add warmth and texture to your floors with the...</td>\n",
              "      <td>1785.38</td>\n",
              "      <td>0.13</td>\n",
              "      <td>0.00</td>\n",
              "      <td>12-03-2022</td>\n",
              "      <td>7</td>\n",
              "      <td>8.55</td>\n",
              "      <td>15-03-2022</td>\n",
              "    </tr>\n",
              "  </tbody>\n",
              "</table>\n",
              "</div>\n",
              "    <div class=\"colab-df-buttons\">\n",
              "\n",
              "  <div class=\"colab-df-container\">\n",
              "    <button class=\"colab-df-convert\" onclick=\"convertToInteractive('df-a41861ea-b1da-4f66-a325-b51d7c56acb6')\"\n",
              "            title=\"Convert this dataframe to an interactive table.\"\n",
              "            style=\"display:none;\">\n",
              "\n",
              "  <svg xmlns=\"http://www.w3.org/2000/svg\" height=\"24px\" viewBox=\"0 -960 960 960\">\n",
              "    <path d=\"M120-120v-720h720v720H120Zm60-500h600v-160H180v160Zm220 220h160v-160H400v160Zm0 220h160v-160H400v160ZM180-400h160v-160H180v160Zm440 0h160v-160H620v160ZM180-180h160v-160H180v160Zm440 0h160v-160H620v160Z\"/>\n",
              "  </svg>\n",
              "    </button>\n",
              "\n",
              "  <style>\n",
              "    .colab-df-container {\n",
              "      display:flex;\n",
              "      gap: 12px;\n",
              "    }\n",
              "\n",
              "    .colab-df-convert {\n",
              "      background-color: #E8F0FE;\n",
              "      border: none;\n",
              "      border-radius: 50%;\n",
              "      cursor: pointer;\n",
              "      display: none;\n",
              "      fill: #1967D2;\n",
              "      height: 32px;\n",
              "      padding: 0 0 0 0;\n",
              "      width: 32px;\n",
              "    }\n",
              "\n",
              "    .colab-df-convert:hover {\n",
              "      background-color: #E2EBFA;\n",
              "      box-shadow: 0px 1px 2px rgba(60, 64, 67, 0.3), 0px 1px 3px 1px rgba(60, 64, 67, 0.15);\n",
              "      fill: #174EA6;\n",
              "    }\n",
              "\n",
              "    .colab-df-buttons div {\n",
              "      margin-bottom: 4px;\n",
              "    }\n",
              "\n",
              "    [theme=dark] .colab-df-convert {\n",
              "      background-color: #3B4455;\n",
              "      fill: #D2E3FC;\n",
              "    }\n",
              "\n",
              "    [theme=dark] .colab-df-convert:hover {\n",
              "      background-color: #434B5C;\n",
              "      box-shadow: 0px 1px 3px 1px rgba(0, 0, 0, 0.15);\n",
              "      filter: drop-shadow(0px 1px 2px rgba(0, 0, 0, 0.3));\n",
              "      fill: #FFFFFF;\n",
              "    }\n",
              "  </style>\n",
              "\n",
              "    <script>\n",
              "      const buttonEl =\n",
              "        document.querySelector('#df-a41861ea-b1da-4f66-a325-b51d7c56acb6 button.colab-df-convert');\n",
              "      buttonEl.style.display =\n",
              "        google.colab.kernel.accessAllowed ? 'block' : 'none';\n",
              "\n",
              "      async function convertToInteractive(key) {\n",
              "        const element = document.querySelector('#df-a41861ea-b1da-4f66-a325-b51d7c56acb6');\n",
              "        const dataTable =\n",
              "          await google.colab.kernel.invokeFunction('convertToInteractive',\n",
              "                                                    [key], {});\n",
              "        if (!dataTable) return;\n",
              "\n",
              "        const docLinkHtml = 'Like what you see? Visit the ' +\n",
              "          '<a target=\"_blank\" href=https://colab.research.google.com/notebooks/data_table.ipynb>data table notebook</a>'\n",
              "          + ' to learn more about interactive tables.';\n",
              "        element.innerHTML = '';\n",
              "        dataTable['output_type'] = 'display_data';\n",
              "        await google.colab.output.renderOutput(dataTable, element);\n",
              "        const docLink = document.createElement('div');\n",
              "        docLink.innerHTML = docLinkHtml;\n",
              "        element.appendChild(docLink);\n",
              "      }\n",
              "    </script>\n",
              "  </div>\n",
              "\n",
              "\n",
              "<div id=\"df-bf45820b-06ce-4497-be09-0a0385e5273e\">\n",
              "  <button class=\"colab-df-quickchart\" onclick=\"quickchart('df-bf45820b-06ce-4497-be09-0a0385e5273e')\"\n",
              "            title=\"Suggest charts\"\n",
              "            style=\"display:none;\">\n",
              "\n",
              "<svg xmlns=\"http://www.w3.org/2000/svg\" height=\"24px\"viewBox=\"0 0 24 24\"\n",
              "     width=\"24px\">\n",
              "    <g>\n",
              "        <path d=\"M19 3H5c-1.1 0-2 .9-2 2v14c0 1.1.9 2 2 2h14c1.1 0 2-.9 2-2V5c0-1.1-.9-2-2-2zM9 17H7v-7h2v7zm4 0h-2V7h2v10zm4 0h-2v-4h2v4z\"/>\n",
              "    </g>\n",
              "</svg>\n",
              "  </button>\n",
              "\n",
              "<style>\n",
              "  .colab-df-quickchart {\n",
              "      --bg-color: #E8F0FE;\n",
              "      --fill-color: #1967D2;\n",
              "      --hover-bg-color: #E2EBFA;\n",
              "      --hover-fill-color: #174EA6;\n",
              "      --disabled-fill-color: #AAA;\n",
              "      --disabled-bg-color: #DDD;\n",
              "  }\n",
              "\n",
              "  [theme=dark] .colab-df-quickchart {\n",
              "      --bg-color: #3B4455;\n",
              "      --fill-color: #D2E3FC;\n",
              "      --hover-bg-color: #434B5C;\n",
              "      --hover-fill-color: #FFFFFF;\n",
              "      --disabled-bg-color: #3B4455;\n",
              "      --disabled-fill-color: #666;\n",
              "  }\n",
              "\n",
              "  .colab-df-quickchart {\n",
              "    background-color: var(--bg-color);\n",
              "    border: none;\n",
              "    border-radius: 50%;\n",
              "    cursor: pointer;\n",
              "    display: none;\n",
              "    fill: var(--fill-color);\n",
              "    height: 32px;\n",
              "    padding: 0;\n",
              "    width: 32px;\n",
              "  }\n",
              "\n",
              "  .colab-df-quickchart:hover {\n",
              "    background-color: var(--hover-bg-color);\n",
              "    box-shadow: 0 1px 2px rgba(60, 64, 67, 0.3), 0 1px 3px 1px rgba(60, 64, 67, 0.15);\n",
              "    fill: var(--button-hover-fill-color);\n",
              "  }\n",
              "\n",
              "  .colab-df-quickchart-complete:disabled,\n",
              "  .colab-df-quickchart-complete:disabled:hover {\n",
              "    background-color: var(--disabled-bg-color);\n",
              "    fill: var(--disabled-fill-color);\n",
              "    box-shadow: none;\n",
              "  }\n",
              "\n",
              "  .colab-df-spinner {\n",
              "    border: 2px solid var(--fill-color);\n",
              "    border-color: transparent;\n",
              "    border-bottom-color: var(--fill-color);\n",
              "    animation:\n",
              "      spin 1s steps(1) infinite;\n",
              "  }\n",
              "\n",
              "  @keyframes spin {\n",
              "    0% {\n",
              "      border-color: transparent;\n",
              "      border-bottom-color: var(--fill-color);\n",
              "      border-left-color: var(--fill-color);\n",
              "    }\n",
              "    20% {\n",
              "      border-color: transparent;\n",
              "      border-left-color: var(--fill-color);\n",
              "      border-top-color: var(--fill-color);\n",
              "    }\n",
              "    30% {\n",
              "      border-color: transparent;\n",
              "      border-left-color: var(--fill-color);\n",
              "      border-top-color: var(--fill-color);\n",
              "      border-right-color: var(--fill-color);\n",
              "    }\n",
              "    40% {\n",
              "      border-color: transparent;\n",
              "      border-right-color: var(--fill-color);\n",
              "      border-top-color: var(--fill-color);\n",
              "    }\n",
              "    60% {\n",
              "      border-color: transparent;\n",
              "      border-right-color: var(--fill-color);\n",
              "    }\n",
              "    80% {\n",
              "      border-color: transparent;\n",
              "      border-right-color: var(--fill-color);\n",
              "      border-bottom-color: var(--fill-color);\n",
              "    }\n",
              "    90% {\n",
              "      border-color: transparent;\n",
              "      border-bottom-color: var(--fill-color);\n",
              "    }\n",
              "  }\n",
              "</style>\n",
              "\n",
              "  <script>\n",
              "    async function quickchart(key) {\n",
              "      const quickchartButtonEl =\n",
              "        document.querySelector('#' + key + ' button');\n",
              "      quickchartButtonEl.disabled = true;  // To prevent multiple clicks.\n",
              "      quickchartButtonEl.classList.add('colab-df-spinner');\n",
              "      try {\n",
              "        const charts = await google.colab.kernel.invokeFunction(\n",
              "            'suggestCharts', [key], {});\n",
              "      } catch (error) {\n",
              "        console.error('Error during call to suggestCharts:', error);\n",
              "      }\n",
              "      quickchartButtonEl.classList.remove('colab-df-spinner');\n",
              "      quickchartButtonEl.classList.add('colab-df-quickchart-complete');\n",
              "    }\n",
              "    (() => {\n",
              "      let quickchartButtonEl =\n",
              "        document.querySelector('#df-bf45820b-06ce-4497-be09-0a0385e5273e button');\n",
              "      quickchartButtonEl.style.display =\n",
              "        google.colab.kernel.accessAllowed ? 'block' : 'none';\n",
              "    })();\n",
              "  </script>\n",
              "</div>\n",
              "\n",
              "    </div>\n",
              "  </div>\n"
            ],
            "application/vnd.google.colaboratory.intrinsic+json": {
              "type": "dataframe",
              "variable_name": "df_c",
              "summary": "{\n  \"name\": \"df_c\",\n  \"rows\": 50000,\n  \"fields\": [\n    {\n      \"column\": \"order_id\",\n      \"properties\": {\n        \"dtype\": \"string\",\n        \"num_unique_values\": 50000,\n        \"samples\": [\n          \"ODSHP33554\",\n          \"ODSHP09428\",\n          \"ODSHP00200\"\n        ],\n        \"semantic_type\": \"\",\n        \"description\": \"\"\n      }\n    },\n    {\n      \"column\": \"customer_id\",\n      \"properties\": {\n        \"dtype\": \"category\",\n        \"num_unique_values\": 1000,\n        \"samples\": [\n          \"CS00522\",\n          \"CS00738\",\n          \"CS00741\"\n        ],\n        \"semantic_type\": \"\",\n        \"description\": \"\"\n      }\n    },\n    {\n      \"column\": \"product_name\",\n      \"properties\": {\n        \"dtype\": \"category\",\n        \"num_unique_values\": 30,\n        \"samples\": [\n          \"Jeans\",\n          \"Kitchen Appliances\",\n          \"Jacket\"\n        ],\n        \"semantic_type\": \"\",\n        \"description\": \"\"\n      }\n    },\n    {\n      \"column\": \"description\",\n      \"properties\": {\n        \"dtype\": \"category\",\n        \"num_unique_values\": 30,\n        \"samples\": [\n          \"Make a statement with these stylish and durable jeans.\",\n          \"Make cooking a breeze with these high-quality kitchen appliances.\",\n          \"Stay warm and fashionable with this trendy jacket.\"\n        ],\n        \"semantic_type\": \"\",\n        \"description\": \"\"\n      }\n    },\n    {\n      \"column\": \"price\",\n      \"properties\": {\n        \"dtype\": \"number\",\n        \"std\": 1315.4003284644539,\n        \"min\": 20.02,\n        \"max\": 4999.95,\n        \"num_unique_values\": 43611,\n        \"samples\": [\n          550.48,\n          1674.43,\n          1193.79\n        ],\n        \"semantic_type\": \"\",\n        \"description\": \"\"\n      }\n    },\n    {\n      \"column\": \"discount\",\n      \"properties\": {\n        \"dtype\": \"number\",\n        \"std\": 0.14438588396955854,\n        \"min\": 0.0,\n        \"max\": 0.5,\n        \"num_unique_values\": 51,\n        \"samples\": [\n          0.09,\n          0.18,\n          0.36\n        ],\n        \"semantic_type\": \"\",\n        \"description\": \"\"\n      }\n    },\n    {\n      \"column\": \"tax\",\n      \"properties\": {\n        \"dtype\": \"number\",\n        \"std\": 0.0291593280424656,\n        \"min\": 0.0,\n        \"max\": 0.1,\n        \"num_unique_values\": 11,\n        \"samples\": [\n          0.07,\n          0.02,\n          0.1\n        ],\n        \"semantic_type\": \"\",\n        \"description\": \"\"\n      }\n    },\n    {\n      \"column\": \"order_date\",\n      \"properties\": {\n        \"dtype\": \"object\",\n        \"num_unique_values\": 1236,\n        \"samples\": [\n          \"22-09-2020\",\n          \"13-06-2022\",\n          \"21-05-2021\"\n        ],\n        \"semantic_type\": \"\",\n        \"description\": \"\"\n      }\n    },\n    {\n      \"column\": \"quantity\",\n      \"properties\": {\n        \"dtype\": \"number\",\n        \"std\": 2,\n        \"min\": 1,\n        \"max\": 10,\n        \"num_unique_values\": 10,\n        \"samples\": [\n          4,\n          3,\n          10\n        ],\n        \"semantic_type\": \"\",\n        \"description\": \"\"\n      }\n    },\n    {\n      \"column\": \"shipping_cost\",\n      \"properties\": {\n        \"dtype\": \"number\",\n        \"std\": 12.952128112699453,\n        \"min\": 5.0,\n        \"max\": 50.0,\n        \"num_unique_values\": 4501,\n        \"samples\": [\n          41.02,\n          23.73,\n          43.33\n        ],\n        \"semantic_type\": \"\",\n        \"description\": \"\"\n      }\n    },\n    {\n      \"column\": \"shipping_date\",\n      \"properties\": {\n        \"dtype\": \"object\",\n        \"num_unique_values\": 1250,\n        \"samples\": [\n          \"25-03-2021\",\n          \"17-10-2022\",\n          \"09-01-2023\"\n        ],\n        \"semantic_type\": \"\",\n        \"description\": \"\"\n      }\n    }\n  ]\n}"
            }
          },
          "metadata": {},
          "execution_count": 3
        }
      ]
    },
    {
      "cell_type": "markdown",
      "source": [
        "Data_Merging"
      ],
      "metadata": {
        "id": "UiQosSQxNk1E"
      }
    },
    {
      "cell_type": "code",
      "source": [
        "# Merging the datasets on 'customer_id'\n",
        "merged_data = pd.merge(df_c, df_p, on='customer_id', how='inner')\n",
        "\n",
        "# Display the first few rows of the merged dataset to verify\n",
        "merged_data_head = merged_data.head()\n",
        "merged_data_head\n"
      ],
      "metadata": {
        "colab": {
          "base_uri": "https://localhost:8080/",
          "height": 409
        },
        "id": "0EPtFgmyNCfv",
        "outputId": "71fef31a-b986-44e3-af3f-4c6bda76b77a"
      },
      "execution_count": 4,
      "outputs": [
        {
          "output_type": "execute_result",
          "data": {
            "text/plain": [
              "   order_id_x customer_id product_name_x  \\\n",
              "0  ODSHP00001     CS00001      Furniture   \n",
              "1  ODSHP00001     CS00001      Furniture   \n",
              "2  ODSHP00001     CS00001      Furniture   \n",
              "3  ODSHP00001     CS00001      Furniture   \n",
              "4  ODSHP00001     CS00001      Furniture   \n",
              "\n",
              "                                       description_x  price_x  discount_x  \\\n",
              "0  Transform your space with this stylish and fun...   645.52        0.37   \n",
              "1  Transform your space with this stylish and fun...   645.52        0.37   \n",
              "2  Transform your space with this stylish and fun...   645.52        0.37   \n",
              "3  Transform your space with this stylish and fun...   645.52        0.37   \n",
              "4  Transform your space with this stylish and fun...   645.52        0.37   \n",
              "\n",
              "   tax_x order_date_x  quantity_x  shipping_cost_x  ...  order_id_y  \\\n",
              "0   0.02   26-05-2020           9             8.91  ...  ODSHP00001   \n",
              "1   0.02   26-05-2020           9             8.91  ...  ODSHP01001   \n",
              "2   0.02   26-05-2020           9             8.91  ...  ODSHP02001   \n",
              "3   0.02   26-05-2020           9             8.91  ...  ODSHP03001   \n",
              "4   0.02   26-05-2020           9             8.91  ...  ODSHP04001   \n",
              "\n",
              "     product_name_y                                      description_y  \\\n",
              "0         Furniture  Transform your space with this stylish and fun...   \n",
              "1             Jeans  Make a statement with these stylish and durabl...   \n",
              "2  Wireless Speaker  Stream your favorite music wirelessly with thi...   \n",
              "3            Jacket  Stay warm and fashionable with this trendy jac...   \n",
              "4           Sweater  Keep cozy and stylish with this soft and warm ...   \n",
              "\n",
              "   price_y  discount_y  tax_y  order_date_y quantity_y  shipping_cost_y  \\\n",
              "0   645.52        0.37   0.02    26-05-2020          9             8.91   \n",
              "1   251.69        0.18   0.02    01-09-2019          8            21.67   \n",
              "2  1711.04        0.48   0.03    24-04-2022          8            45.72   \n",
              "3   110.61        0.28   0.06    04-01-2020          9            48.17   \n",
              "4   135.52        0.32   0.06    10-10-2020          2            10.79   \n",
              "\n",
              "   shipping_date_y  \n",
              "0       29-05-2020  \n",
              "1       04-09-2019  \n",
              "2       01-05-2022  \n",
              "3       10-01-2020  \n",
              "4       11-10-2020  \n",
              "\n",
              "[5 rows x 21 columns]"
            ],
            "text/html": [
              "\n",
              "  <div id=\"df-7ddaeed9-d512-4fd7-bdf9-9da3424ae9e7\" class=\"colab-df-container\">\n",
              "    <div>\n",
              "<style scoped>\n",
              "    .dataframe tbody tr th:only-of-type {\n",
              "        vertical-align: middle;\n",
              "    }\n",
              "\n",
              "    .dataframe tbody tr th {\n",
              "        vertical-align: top;\n",
              "    }\n",
              "\n",
              "    .dataframe thead th {\n",
              "        text-align: right;\n",
              "    }\n",
              "</style>\n",
              "<table border=\"1\" class=\"dataframe\">\n",
              "  <thead>\n",
              "    <tr style=\"text-align: right;\">\n",
              "      <th></th>\n",
              "      <th>order_id_x</th>\n",
              "      <th>customer_id</th>\n",
              "      <th>product_name_x</th>\n",
              "      <th>description_x</th>\n",
              "      <th>price_x</th>\n",
              "      <th>discount_x</th>\n",
              "      <th>tax_x</th>\n",
              "      <th>order_date_x</th>\n",
              "      <th>quantity_x</th>\n",
              "      <th>shipping_cost_x</th>\n",
              "      <th>...</th>\n",
              "      <th>order_id_y</th>\n",
              "      <th>product_name_y</th>\n",
              "      <th>description_y</th>\n",
              "      <th>price_y</th>\n",
              "      <th>discount_y</th>\n",
              "      <th>tax_y</th>\n",
              "      <th>order_date_y</th>\n",
              "      <th>quantity_y</th>\n",
              "      <th>shipping_cost_y</th>\n",
              "      <th>shipping_date_y</th>\n",
              "    </tr>\n",
              "  </thead>\n",
              "  <tbody>\n",
              "    <tr>\n",
              "      <th>0</th>\n",
              "      <td>ODSHP00001</td>\n",
              "      <td>CS00001</td>\n",
              "      <td>Furniture</td>\n",
              "      <td>Transform your space with this stylish and fun...</td>\n",
              "      <td>645.52</td>\n",
              "      <td>0.37</td>\n",
              "      <td>0.02</td>\n",
              "      <td>26-05-2020</td>\n",
              "      <td>9</td>\n",
              "      <td>8.91</td>\n",
              "      <td>...</td>\n",
              "      <td>ODSHP00001</td>\n",
              "      <td>Furniture</td>\n",
              "      <td>Transform your space with this stylish and fun...</td>\n",
              "      <td>645.52</td>\n",
              "      <td>0.37</td>\n",
              "      <td>0.02</td>\n",
              "      <td>26-05-2020</td>\n",
              "      <td>9</td>\n",
              "      <td>8.91</td>\n",
              "      <td>29-05-2020</td>\n",
              "    </tr>\n",
              "    <tr>\n",
              "      <th>1</th>\n",
              "      <td>ODSHP00001</td>\n",
              "      <td>CS00001</td>\n",
              "      <td>Furniture</td>\n",
              "      <td>Transform your space with this stylish and fun...</td>\n",
              "      <td>645.52</td>\n",
              "      <td>0.37</td>\n",
              "      <td>0.02</td>\n",
              "      <td>26-05-2020</td>\n",
              "      <td>9</td>\n",
              "      <td>8.91</td>\n",
              "      <td>...</td>\n",
              "      <td>ODSHP01001</td>\n",
              "      <td>Jeans</td>\n",
              "      <td>Make a statement with these stylish and durabl...</td>\n",
              "      <td>251.69</td>\n",
              "      <td>0.18</td>\n",
              "      <td>0.02</td>\n",
              "      <td>01-09-2019</td>\n",
              "      <td>8</td>\n",
              "      <td>21.67</td>\n",
              "      <td>04-09-2019</td>\n",
              "    </tr>\n",
              "    <tr>\n",
              "      <th>2</th>\n",
              "      <td>ODSHP00001</td>\n",
              "      <td>CS00001</td>\n",
              "      <td>Furniture</td>\n",
              "      <td>Transform your space with this stylish and fun...</td>\n",
              "      <td>645.52</td>\n",
              "      <td>0.37</td>\n",
              "      <td>0.02</td>\n",
              "      <td>26-05-2020</td>\n",
              "      <td>9</td>\n",
              "      <td>8.91</td>\n",
              "      <td>...</td>\n",
              "      <td>ODSHP02001</td>\n",
              "      <td>Wireless Speaker</td>\n",
              "      <td>Stream your favorite music wirelessly with thi...</td>\n",
              "      <td>1711.04</td>\n",
              "      <td>0.48</td>\n",
              "      <td>0.03</td>\n",
              "      <td>24-04-2022</td>\n",
              "      <td>8</td>\n",
              "      <td>45.72</td>\n",
              "      <td>01-05-2022</td>\n",
              "    </tr>\n",
              "    <tr>\n",
              "      <th>3</th>\n",
              "      <td>ODSHP00001</td>\n",
              "      <td>CS00001</td>\n",
              "      <td>Furniture</td>\n",
              "      <td>Transform your space with this stylish and fun...</td>\n",
              "      <td>645.52</td>\n",
              "      <td>0.37</td>\n",
              "      <td>0.02</td>\n",
              "      <td>26-05-2020</td>\n",
              "      <td>9</td>\n",
              "      <td>8.91</td>\n",
              "      <td>...</td>\n",
              "      <td>ODSHP03001</td>\n",
              "      <td>Jacket</td>\n",
              "      <td>Stay warm and fashionable with this trendy jac...</td>\n",
              "      <td>110.61</td>\n",
              "      <td>0.28</td>\n",
              "      <td>0.06</td>\n",
              "      <td>04-01-2020</td>\n",
              "      <td>9</td>\n",
              "      <td>48.17</td>\n",
              "      <td>10-01-2020</td>\n",
              "    </tr>\n",
              "    <tr>\n",
              "      <th>4</th>\n",
              "      <td>ODSHP00001</td>\n",
              "      <td>CS00001</td>\n",
              "      <td>Furniture</td>\n",
              "      <td>Transform your space with this stylish and fun...</td>\n",
              "      <td>645.52</td>\n",
              "      <td>0.37</td>\n",
              "      <td>0.02</td>\n",
              "      <td>26-05-2020</td>\n",
              "      <td>9</td>\n",
              "      <td>8.91</td>\n",
              "      <td>...</td>\n",
              "      <td>ODSHP04001</td>\n",
              "      <td>Sweater</td>\n",
              "      <td>Keep cozy and stylish with this soft and warm ...</td>\n",
              "      <td>135.52</td>\n",
              "      <td>0.32</td>\n",
              "      <td>0.06</td>\n",
              "      <td>10-10-2020</td>\n",
              "      <td>2</td>\n",
              "      <td>10.79</td>\n",
              "      <td>11-10-2020</td>\n",
              "    </tr>\n",
              "  </tbody>\n",
              "</table>\n",
              "<p>5 rows × 21 columns</p>\n",
              "</div>\n",
              "    <div class=\"colab-df-buttons\">\n",
              "\n",
              "  <div class=\"colab-df-container\">\n",
              "    <button class=\"colab-df-convert\" onclick=\"convertToInteractive('df-7ddaeed9-d512-4fd7-bdf9-9da3424ae9e7')\"\n",
              "            title=\"Convert this dataframe to an interactive table.\"\n",
              "            style=\"display:none;\">\n",
              "\n",
              "  <svg xmlns=\"http://www.w3.org/2000/svg\" height=\"24px\" viewBox=\"0 -960 960 960\">\n",
              "    <path d=\"M120-120v-720h720v720H120Zm60-500h600v-160H180v160Zm220 220h160v-160H400v160Zm0 220h160v-160H400v160ZM180-400h160v-160H180v160Zm440 0h160v-160H620v160ZM180-180h160v-160H180v160Zm440 0h160v-160H620v160Z\"/>\n",
              "  </svg>\n",
              "    </button>\n",
              "\n",
              "  <style>\n",
              "    .colab-df-container {\n",
              "      display:flex;\n",
              "      gap: 12px;\n",
              "    }\n",
              "\n",
              "    .colab-df-convert {\n",
              "      background-color: #E8F0FE;\n",
              "      border: none;\n",
              "      border-radius: 50%;\n",
              "      cursor: pointer;\n",
              "      display: none;\n",
              "      fill: #1967D2;\n",
              "      height: 32px;\n",
              "      padding: 0 0 0 0;\n",
              "      width: 32px;\n",
              "    }\n",
              "\n",
              "    .colab-df-convert:hover {\n",
              "      background-color: #E2EBFA;\n",
              "      box-shadow: 0px 1px 2px rgba(60, 64, 67, 0.3), 0px 1px 3px 1px rgba(60, 64, 67, 0.15);\n",
              "      fill: #174EA6;\n",
              "    }\n",
              "\n",
              "    .colab-df-buttons div {\n",
              "      margin-bottom: 4px;\n",
              "    }\n",
              "\n",
              "    [theme=dark] .colab-df-convert {\n",
              "      background-color: #3B4455;\n",
              "      fill: #D2E3FC;\n",
              "    }\n",
              "\n",
              "    [theme=dark] .colab-df-convert:hover {\n",
              "      background-color: #434B5C;\n",
              "      box-shadow: 0px 1px 3px 1px rgba(0, 0, 0, 0.15);\n",
              "      filter: drop-shadow(0px 1px 2px rgba(0, 0, 0, 0.3));\n",
              "      fill: #FFFFFF;\n",
              "    }\n",
              "  </style>\n",
              "\n",
              "    <script>\n",
              "      const buttonEl =\n",
              "        document.querySelector('#df-7ddaeed9-d512-4fd7-bdf9-9da3424ae9e7 button.colab-df-convert');\n",
              "      buttonEl.style.display =\n",
              "        google.colab.kernel.accessAllowed ? 'block' : 'none';\n",
              "\n",
              "      async function convertToInteractive(key) {\n",
              "        const element = document.querySelector('#df-7ddaeed9-d512-4fd7-bdf9-9da3424ae9e7');\n",
              "        const dataTable =\n",
              "          await google.colab.kernel.invokeFunction('convertToInteractive',\n",
              "                                                    [key], {});\n",
              "        if (!dataTable) return;\n",
              "\n",
              "        const docLinkHtml = 'Like what you see? Visit the ' +\n",
              "          '<a target=\"_blank\" href=https://colab.research.google.com/notebooks/data_table.ipynb>data table notebook</a>'\n",
              "          + ' to learn more about interactive tables.';\n",
              "        element.innerHTML = '';\n",
              "        dataTable['output_type'] = 'display_data';\n",
              "        await google.colab.output.renderOutput(dataTable, element);\n",
              "        const docLink = document.createElement('div');\n",
              "        docLink.innerHTML = docLinkHtml;\n",
              "        element.appendChild(docLink);\n",
              "      }\n",
              "    </script>\n",
              "  </div>\n",
              "\n",
              "\n",
              "<div id=\"df-257eaf2d-90f1-4d83-8acc-a486659ba6cc\">\n",
              "  <button class=\"colab-df-quickchart\" onclick=\"quickchart('df-257eaf2d-90f1-4d83-8acc-a486659ba6cc')\"\n",
              "            title=\"Suggest charts\"\n",
              "            style=\"display:none;\">\n",
              "\n",
              "<svg xmlns=\"http://www.w3.org/2000/svg\" height=\"24px\"viewBox=\"0 0 24 24\"\n",
              "     width=\"24px\">\n",
              "    <g>\n",
              "        <path d=\"M19 3H5c-1.1 0-2 .9-2 2v14c0 1.1.9 2 2 2h14c1.1 0 2-.9 2-2V5c0-1.1-.9-2-2-2zM9 17H7v-7h2v7zm4 0h-2V7h2v10zm4 0h-2v-4h2v4z\"/>\n",
              "    </g>\n",
              "</svg>\n",
              "  </button>\n",
              "\n",
              "<style>\n",
              "  .colab-df-quickchart {\n",
              "      --bg-color: #E8F0FE;\n",
              "      --fill-color: #1967D2;\n",
              "      --hover-bg-color: #E2EBFA;\n",
              "      --hover-fill-color: #174EA6;\n",
              "      --disabled-fill-color: #AAA;\n",
              "      --disabled-bg-color: #DDD;\n",
              "  }\n",
              "\n",
              "  [theme=dark] .colab-df-quickchart {\n",
              "      --bg-color: #3B4455;\n",
              "      --fill-color: #D2E3FC;\n",
              "      --hover-bg-color: #434B5C;\n",
              "      --hover-fill-color: #FFFFFF;\n",
              "      --disabled-bg-color: #3B4455;\n",
              "      --disabled-fill-color: #666;\n",
              "  }\n",
              "\n",
              "  .colab-df-quickchart {\n",
              "    background-color: var(--bg-color);\n",
              "    border: none;\n",
              "    border-radius: 50%;\n",
              "    cursor: pointer;\n",
              "    display: none;\n",
              "    fill: var(--fill-color);\n",
              "    height: 32px;\n",
              "    padding: 0;\n",
              "    width: 32px;\n",
              "  }\n",
              "\n",
              "  .colab-df-quickchart:hover {\n",
              "    background-color: var(--hover-bg-color);\n",
              "    box-shadow: 0 1px 2px rgba(60, 64, 67, 0.3), 0 1px 3px 1px rgba(60, 64, 67, 0.15);\n",
              "    fill: var(--button-hover-fill-color);\n",
              "  }\n",
              "\n",
              "  .colab-df-quickchart-complete:disabled,\n",
              "  .colab-df-quickchart-complete:disabled:hover {\n",
              "    background-color: var(--disabled-bg-color);\n",
              "    fill: var(--disabled-fill-color);\n",
              "    box-shadow: none;\n",
              "  }\n",
              "\n",
              "  .colab-df-spinner {\n",
              "    border: 2px solid var(--fill-color);\n",
              "    border-color: transparent;\n",
              "    border-bottom-color: var(--fill-color);\n",
              "    animation:\n",
              "      spin 1s steps(1) infinite;\n",
              "  }\n",
              "\n",
              "  @keyframes spin {\n",
              "    0% {\n",
              "      border-color: transparent;\n",
              "      border-bottom-color: var(--fill-color);\n",
              "      border-left-color: var(--fill-color);\n",
              "    }\n",
              "    20% {\n",
              "      border-color: transparent;\n",
              "      border-left-color: var(--fill-color);\n",
              "      border-top-color: var(--fill-color);\n",
              "    }\n",
              "    30% {\n",
              "      border-color: transparent;\n",
              "      border-left-color: var(--fill-color);\n",
              "      border-top-color: var(--fill-color);\n",
              "      border-right-color: var(--fill-color);\n",
              "    }\n",
              "    40% {\n",
              "      border-color: transparent;\n",
              "      border-right-color: var(--fill-color);\n",
              "      border-top-color: var(--fill-color);\n",
              "    }\n",
              "    60% {\n",
              "      border-color: transparent;\n",
              "      border-right-color: var(--fill-color);\n",
              "    }\n",
              "    80% {\n",
              "      border-color: transparent;\n",
              "      border-right-color: var(--fill-color);\n",
              "      border-bottom-color: var(--fill-color);\n",
              "    }\n",
              "    90% {\n",
              "      border-color: transparent;\n",
              "      border-bottom-color: var(--fill-color);\n",
              "    }\n",
              "  }\n",
              "</style>\n",
              "\n",
              "  <script>\n",
              "    async function quickchart(key) {\n",
              "      const quickchartButtonEl =\n",
              "        document.querySelector('#' + key + ' button');\n",
              "      quickchartButtonEl.disabled = true;  // To prevent multiple clicks.\n",
              "      quickchartButtonEl.classList.add('colab-df-spinner');\n",
              "      try {\n",
              "        const charts = await google.colab.kernel.invokeFunction(\n",
              "            'suggestCharts', [key], {});\n",
              "      } catch (error) {\n",
              "        console.error('Error during call to suggestCharts:', error);\n",
              "      }\n",
              "      quickchartButtonEl.classList.remove('colab-df-spinner');\n",
              "      quickchartButtonEl.classList.add('colab-df-quickchart-complete');\n",
              "    }\n",
              "    (() => {\n",
              "      let quickchartButtonEl =\n",
              "        document.querySelector('#df-257eaf2d-90f1-4d83-8acc-a486659ba6cc button');\n",
              "      quickchartButtonEl.style.display =\n",
              "        google.colab.kernel.accessAllowed ? 'block' : 'none';\n",
              "    })();\n",
              "  </script>\n",
              "</div>\n",
              "\n",
              "  <div id=\"id_b78d05cf-51bd-41a0-9668-353a5831bd07\">\n",
              "    <style>\n",
              "      .colab-df-generate {\n",
              "        background-color: #E8F0FE;\n",
              "        border: none;\n",
              "        border-radius: 50%;\n",
              "        cursor: pointer;\n",
              "        display: none;\n",
              "        fill: #1967D2;\n",
              "        height: 32px;\n",
              "        padding: 0 0 0 0;\n",
              "        width: 32px;\n",
              "      }\n",
              "\n",
              "      .colab-df-generate:hover {\n",
              "        background-color: #E2EBFA;\n",
              "        box-shadow: 0px 1px 2px rgba(60, 64, 67, 0.3), 0px 1px 3px 1px rgba(60, 64, 67, 0.15);\n",
              "        fill: #174EA6;\n",
              "      }\n",
              "\n",
              "      [theme=dark] .colab-df-generate {\n",
              "        background-color: #3B4455;\n",
              "        fill: #D2E3FC;\n",
              "      }\n",
              "\n",
              "      [theme=dark] .colab-df-generate:hover {\n",
              "        background-color: #434B5C;\n",
              "        box-shadow: 0px 1px 3px 1px rgba(0, 0, 0, 0.15);\n",
              "        filter: drop-shadow(0px 1px 2px rgba(0, 0, 0, 0.3));\n",
              "        fill: #FFFFFF;\n",
              "      }\n",
              "    </style>\n",
              "    <button class=\"colab-df-generate\" onclick=\"generateWithVariable('merged_data_head')\"\n",
              "            title=\"Generate code using this dataframe.\"\n",
              "            style=\"display:none;\">\n",
              "\n",
              "  <svg xmlns=\"http://www.w3.org/2000/svg\" height=\"24px\"viewBox=\"0 0 24 24\"\n",
              "       width=\"24px\">\n",
              "    <path d=\"M7,19H8.4L18.45,9,17,7.55,7,17.6ZM5,21V16.75L18.45,3.32a2,2,0,0,1,2.83,0l1.4,1.43a1.91,1.91,0,0,1,.58,1.4,1.91,1.91,0,0,1-.58,1.4L9.25,21ZM18.45,9,17,7.55Zm-12,3A5.31,5.31,0,0,0,4.9,8.1,5.31,5.31,0,0,0,1,6.5,5.31,5.31,0,0,0,4.9,4.9,5.31,5.31,0,0,0,6.5,1,5.31,5.31,0,0,0,8.1,4.9,5.31,5.31,0,0,0,12,6.5,5.46,5.46,0,0,0,6.5,12Z\"/>\n",
              "  </svg>\n",
              "    </button>\n",
              "    <script>\n",
              "      (() => {\n",
              "      const buttonEl =\n",
              "        document.querySelector('#id_b78d05cf-51bd-41a0-9668-353a5831bd07 button.colab-df-generate');\n",
              "      buttonEl.style.display =\n",
              "        google.colab.kernel.accessAllowed ? 'block' : 'none';\n",
              "\n",
              "      buttonEl.onclick = () => {\n",
              "        google.colab.notebook.generateWithVariable('merged_data_head');\n",
              "      }\n",
              "      })();\n",
              "    </script>\n",
              "  </div>\n",
              "\n",
              "    </div>\n",
              "  </div>\n"
            ],
            "application/vnd.google.colaboratory.intrinsic+json": {
              "type": "dataframe",
              "variable_name": "merged_data_head"
            }
          },
          "metadata": {},
          "execution_count": 4
        }
      ]
    },
    {
      "cell_type": "code",
      "source": [
        "#getting to understad the data set\n",
        "merged_data.info()"
      ],
      "metadata": {
        "colab": {
          "base_uri": "https://localhost:8080/"
        },
        "id": "d050HYedQA1d",
        "outputId": "0d3b6f6c-eb74-4b37-c51a-79ef50bfcfac"
      },
      "execution_count": 5,
      "outputs": [
        {
          "output_type": "stream",
          "name": "stdout",
          "text": [
            "<class 'pandas.core.frame.DataFrame'>\n",
            "RangeIndex: 2500000 entries, 0 to 2499999\n",
            "Data columns (total 21 columns):\n",
            " #   Column           Dtype  \n",
            "---  ------           -----  \n",
            " 0   order_id_x       object \n",
            " 1   customer_id      object \n",
            " 2   product_name_x   object \n",
            " 3   description_x    object \n",
            " 4   price_x          float64\n",
            " 5   discount_x       float64\n",
            " 6   tax_x            float64\n",
            " 7   order_date_x     object \n",
            " 8   quantity_x       int64  \n",
            " 9   shipping_cost_x  float64\n",
            " 10  shipping_date_x  object \n",
            " 11  order_id_y       object \n",
            " 12  product_name_y   object \n",
            " 13  description_y    object \n",
            " 14  price_y          float64\n",
            " 15  discount_y       float64\n",
            " 16  tax_y            float64\n",
            " 17  order_date_y     object \n",
            " 18  quantity_y       int64  \n",
            " 19  shipping_cost_y  float64\n",
            " 20  shipping_date_y  object \n",
            "dtypes: float64(8), int64(2), object(11)\n",
            "memory usage: 400.5+ MB\n"
          ]
        }
      ]
    },
    {
      "cell_type": "markdown",
      "source": [
        "#**Data_Cleaning**"
      ],
      "metadata": {
        "id": "Xu_flZ_OQQip"
      }
    },
    {
      "cell_type": "code",
      "source": [
        "# Check for missing values in each column\n",
        "missing_values = merged_data.isnull().sum()\n",
        "print(missing_values[missing_values > 0])"
      ],
      "metadata": {
        "colab": {
          "base_uri": "https://localhost:8080/"
        },
        "id": "JDQnksF1QJWW",
        "outputId": "cb869902-a33f-498c-dc29-9cb0e6c7025a"
      },
      "execution_count": 6,
      "outputs": [
        {
          "output_type": "stream",
          "name": "stdout",
          "text": [
            "Series([], dtype: int64)\n"
          ]
        }
      ]
    },
    {
      "cell_type": "code",
      "source": [
        "#ckeaking for duplicates\n",
        "merged_data.duplicated().sum()"
      ],
      "metadata": {
        "colab": {
          "base_uri": "https://localhost:8080/"
        },
        "id": "gDkfiA9dRCXi",
        "outputId": "4e6162c6-402f-441b-f155-a53652611aec"
      },
      "execution_count": 7,
      "outputs": [
        {
          "output_type": "execute_result",
          "data": {
            "text/plain": [
              "0"
            ]
          },
          "metadata": {},
          "execution_count": 7
        }
      ]
    },
    {
      "cell_type": "markdown",
      "source": [
        "#**KPI and Insight Development**"
      ],
      "metadata": {
        "id": "FsX7Y2DbRzZ8"
      }
    },
    {
      "cell_type": "markdown",
      "source": [
        "**Key Performance Indicators (KPIs)**"
      ],
      "metadata": {
        "id": "QAhXG1buSJI3"
      }
    },
    {
      "cell_type": "code",
      "source": [
        "#Cal_of_customer_lifetime_value\n",
        "# Calculating the total purchase value per order after applying discount and tax\n",
        "merged_data['total_order_value'] = (merged_data['price_y'] + merged_data['price_x']) * (merged_data['quantity_y'] + merged_data['quantity_x']) * (1 - (merged_data['discount_y'] + merged_data['discount_x']) + (merged_data['tax_y'] + merged_data['tax_x']))\n",
        "\n",
        "# Calculate Customer Lifetime Value (CLV) by summing total_order_value per customer\n",
        "clv_data = merged_data.groupby('customer_id')['total_order_value'].sum().reset_index()\n",
        "clv_data.rename(columns={'total_order_value': 'CLV'}, inplace=True)\n",
        "\n",
        "# Display the first few rows of the CLV data\n",
        "clv_data.head()"
      ],
      "metadata": {
        "colab": {
          "base_uri": "https://localhost:8080/",
          "height": 206
        },
        "id": "iqdi1jHYR68l",
        "outputId": "394cc58c-0ee8-412a-e99e-9143a7e5ff2f"
      },
      "execution_count": 8,
      "outputs": [
        {
          "output_type": "execute_result",
          "data": {
            "text/plain": [
              "  customer_id           CLV\n",
              "0     CS00001  4.146906e+07\n",
              "1     CS00002  4.286703e+07\n",
              "2     CS00003  5.369335e+07\n",
              "3     CS00004  2.568839e+07\n",
              "4     CS00005  4.998182e+07"
            ],
            "text/html": [
              "\n",
              "  <div id=\"df-ff9c0329-3880-4fe2-bd95-8f7d9cd0266c\" class=\"colab-df-container\">\n",
              "    <div>\n",
              "<style scoped>\n",
              "    .dataframe tbody tr th:only-of-type {\n",
              "        vertical-align: middle;\n",
              "    }\n",
              "\n",
              "    .dataframe tbody tr th {\n",
              "        vertical-align: top;\n",
              "    }\n",
              "\n",
              "    .dataframe thead th {\n",
              "        text-align: right;\n",
              "    }\n",
              "</style>\n",
              "<table border=\"1\" class=\"dataframe\">\n",
              "  <thead>\n",
              "    <tr style=\"text-align: right;\">\n",
              "      <th></th>\n",
              "      <th>customer_id</th>\n",
              "      <th>CLV</th>\n",
              "    </tr>\n",
              "  </thead>\n",
              "  <tbody>\n",
              "    <tr>\n",
              "      <th>0</th>\n",
              "      <td>CS00001</td>\n",
              "      <td>4.146906e+07</td>\n",
              "    </tr>\n",
              "    <tr>\n",
              "      <th>1</th>\n",
              "      <td>CS00002</td>\n",
              "      <td>4.286703e+07</td>\n",
              "    </tr>\n",
              "    <tr>\n",
              "      <th>2</th>\n",
              "      <td>CS00003</td>\n",
              "      <td>5.369335e+07</td>\n",
              "    </tr>\n",
              "    <tr>\n",
              "      <th>3</th>\n",
              "      <td>CS00004</td>\n",
              "      <td>2.568839e+07</td>\n",
              "    </tr>\n",
              "    <tr>\n",
              "      <th>4</th>\n",
              "      <td>CS00005</td>\n",
              "      <td>4.998182e+07</td>\n",
              "    </tr>\n",
              "  </tbody>\n",
              "</table>\n",
              "</div>\n",
              "    <div class=\"colab-df-buttons\">\n",
              "\n",
              "  <div class=\"colab-df-container\">\n",
              "    <button class=\"colab-df-convert\" onclick=\"convertToInteractive('df-ff9c0329-3880-4fe2-bd95-8f7d9cd0266c')\"\n",
              "            title=\"Convert this dataframe to an interactive table.\"\n",
              "            style=\"display:none;\">\n",
              "\n",
              "  <svg xmlns=\"http://www.w3.org/2000/svg\" height=\"24px\" viewBox=\"0 -960 960 960\">\n",
              "    <path d=\"M120-120v-720h720v720H120Zm60-500h600v-160H180v160Zm220 220h160v-160H400v160Zm0 220h160v-160H400v160ZM180-400h160v-160H180v160Zm440 0h160v-160H620v160ZM180-180h160v-160H180v160Zm440 0h160v-160H620v160Z\"/>\n",
              "  </svg>\n",
              "    </button>\n",
              "\n",
              "  <style>\n",
              "    .colab-df-container {\n",
              "      display:flex;\n",
              "      gap: 12px;\n",
              "    }\n",
              "\n",
              "    .colab-df-convert {\n",
              "      background-color: #E8F0FE;\n",
              "      border: none;\n",
              "      border-radius: 50%;\n",
              "      cursor: pointer;\n",
              "      display: none;\n",
              "      fill: #1967D2;\n",
              "      height: 32px;\n",
              "      padding: 0 0 0 0;\n",
              "      width: 32px;\n",
              "    }\n",
              "\n",
              "    .colab-df-convert:hover {\n",
              "      background-color: #E2EBFA;\n",
              "      box-shadow: 0px 1px 2px rgba(60, 64, 67, 0.3), 0px 1px 3px 1px rgba(60, 64, 67, 0.15);\n",
              "      fill: #174EA6;\n",
              "    }\n",
              "\n",
              "    .colab-df-buttons div {\n",
              "      margin-bottom: 4px;\n",
              "    }\n",
              "\n",
              "    [theme=dark] .colab-df-convert {\n",
              "      background-color: #3B4455;\n",
              "      fill: #D2E3FC;\n",
              "    }\n",
              "\n",
              "    [theme=dark] .colab-df-convert:hover {\n",
              "      background-color: #434B5C;\n",
              "      box-shadow: 0px 1px 3px 1px rgba(0, 0, 0, 0.15);\n",
              "      filter: drop-shadow(0px 1px 2px rgba(0, 0, 0, 0.3));\n",
              "      fill: #FFFFFF;\n",
              "    }\n",
              "  </style>\n",
              "\n",
              "    <script>\n",
              "      const buttonEl =\n",
              "        document.querySelector('#df-ff9c0329-3880-4fe2-bd95-8f7d9cd0266c button.colab-df-convert');\n",
              "      buttonEl.style.display =\n",
              "        google.colab.kernel.accessAllowed ? 'block' : 'none';\n",
              "\n",
              "      async function convertToInteractive(key) {\n",
              "        const element = document.querySelector('#df-ff9c0329-3880-4fe2-bd95-8f7d9cd0266c');\n",
              "        const dataTable =\n",
              "          await google.colab.kernel.invokeFunction('convertToInteractive',\n",
              "                                                    [key], {});\n",
              "        if (!dataTable) return;\n",
              "\n",
              "        const docLinkHtml = 'Like what you see? Visit the ' +\n",
              "          '<a target=\"_blank\" href=https://colab.research.google.com/notebooks/data_table.ipynb>data table notebook</a>'\n",
              "          + ' to learn more about interactive tables.';\n",
              "        element.innerHTML = '';\n",
              "        dataTable['output_type'] = 'display_data';\n",
              "        await google.colab.output.renderOutput(dataTable, element);\n",
              "        const docLink = document.createElement('div');\n",
              "        docLink.innerHTML = docLinkHtml;\n",
              "        element.appendChild(docLink);\n",
              "      }\n",
              "    </script>\n",
              "  </div>\n",
              "\n",
              "\n",
              "<div id=\"df-aeb55452-3947-4e5f-a113-c90324139261\">\n",
              "  <button class=\"colab-df-quickchart\" onclick=\"quickchart('df-aeb55452-3947-4e5f-a113-c90324139261')\"\n",
              "            title=\"Suggest charts\"\n",
              "            style=\"display:none;\">\n",
              "\n",
              "<svg xmlns=\"http://www.w3.org/2000/svg\" height=\"24px\"viewBox=\"0 0 24 24\"\n",
              "     width=\"24px\">\n",
              "    <g>\n",
              "        <path d=\"M19 3H5c-1.1 0-2 .9-2 2v14c0 1.1.9 2 2 2h14c1.1 0 2-.9 2-2V5c0-1.1-.9-2-2-2zM9 17H7v-7h2v7zm4 0h-2V7h2v10zm4 0h-2v-4h2v4z\"/>\n",
              "    </g>\n",
              "</svg>\n",
              "  </button>\n",
              "\n",
              "<style>\n",
              "  .colab-df-quickchart {\n",
              "      --bg-color: #E8F0FE;\n",
              "      --fill-color: #1967D2;\n",
              "      --hover-bg-color: #E2EBFA;\n",
              "      --hover-fill-color: #174EA6;\n",
              "      --disabled-fill-color: #AAA;\n",
              "      --disabled-bg-color: #DDD;\n",
              "  }\n",
              "\n",
              "  [theme=dark] .colab-df-quickchart {\n",
              "      --bg-color: #3B4455;\n",
              "      --fill-color: #D2E3FC;\n",
              "      --hover-bg-color: #434B5C;\n",
              "      --hover-fill-color: #FFFFFF;\n",
              "      --disabled-bg-color: #3B4455;\n",
              "      --disabled-fill-color: #666;\n",
              "  }\n",
              "\n",
              "  .colab-df-quickchart {\n",
              "    background-color: var(--bg-color);\n",
              "    border: none;\n",
              "    border-radius: 50%;\n",
              "    cursor: pointer;\n",
              "    display: none;\n",
              "    fill: var(--fill-color);\n",
              "    height: 32px;\n",
              "    padding: 0;\n",
              "    width: 32px;\n",
              "  }\n",
              "\n",
              "  .colab-df-quickchart:hover {\n",
              "    background-color: var(--hover-bg-color);\n",
              "    box-shadow: 0 1px 2px rgba(60, 64, 67, 0.3), 0 1px 3px 1px rgba(60, 64, 67, 0.15);\n",
              "    fill: var(--button-hover-fill-color);\n",
              "  }\n",
              "\n",
              "  .colab-df-quickchart-complete:disabled,\n",
              "  .colab-df-quickchart-complete:disabled:hover {\n",
              "    background-color: var(--disabled-bg-color);\n",
              "    fill: var(--disabled-fill-color);\n",
              "    box-shadow: none;\n",
              "  }\n",
              "\n",
              "  .colab-df-spinner {\n",
              "    border: 2px solid var(--fill-color);\n",
              "    border-color: transparent;\n",
              "    border-bottom-color: var(--fill-color);\n",
              "    animation:\n",
              "      spin 1s steps(1) infinite;\n",
              "  }\n",
              "\n",
              "  @keyframes spin {\n",
              "    0% {\n",
              "      border-color: transparent;\n",
              "      border-bottom-color: var(--fill-color);\n",
              "      border-left-color: var(--fill-color);\n",
              "    }\n",
              "    20% {\n",
              "      border-color: transparent;\n",
              "      border-left-color: var(--fill-color);\n",
              "      border-top-color: var(--fill-color);\n",
              "    }\n",
              "    30% {\n",
              "      border-color: transparent;\n",
              "      border-left-color: var(--fill-color);\n",
              "      border-top-color: var(--fill-color);\n",
              "      border-right-color: var(--fill-color);\n",
              "    }\n",
              "    40% {\n",
              "      border-color: transparent;\n",
              "      border-right-color: var(--fill-color);\n",
              "      border-top-color: var(--fill-color);\n",
              "    }\n",
              "    60% {\n",
              "      border-color: transparent;\n",
              "      border-right-color: var(--fill-color);\n",
              "    }\n",
              "    80% {\n",
              "      border-color: transparent;\n",
              "      border-right-color: var(--fill-color);\n",
              "      border-bottom-color: var(--fill-color);\n",
              "    }\n",
              "    90% {\n",
              "      border-color: transparent;\n",
              "      border-bottom-color: var(--fill-color);\n",
              "    }\n",
              "  }\n",
              "</style>\n",
              "\n",
              "  <script>\n",
              "    async function quickchart(key) {\n",
              "      const quickchartButtonEl =\n",
              "        document.querySelector('#' + key + ' button');\n",
              "      quickchartButtonEl.disabled = true;  // To prevent multiple clicks.\n",
              "      quickchartButtonEl.classList.add('colab-df-spinner');\n",
              "      try {\n",
              "        const charts = await google.colab.kernel.invokeFunction(\n",
              "            'suggestCharts', [key], {});\n",
              "      } catch (error) {\n",
              "        console.error('Error during call to suggestCharts:', error);\n",
              "      }\n",
              "      quickchartButtonEl.classList.remove('colab-df-spinner');\n",
              "      quickchartButtonEl.classList.add('colab-df-quickchart-complete');\n",
              "    }\n",
              "    (() => {\n",
              "      let quickchartButtonEl =\n",
              "        document.querySelector('#df-aeb55452-3947-4e5f-a113-c90324139261 button');\n",
              "      quickchartButtonEl.style.display =\n",
              "        google.colab.kernel.accessAllowed ? 'block' : 'none';\n",
              "    })();\n",
              "  </script>\n",
              "</div>\n",
              "\n",
              "    </div>\n",
              "  </div>\n"
            ],
            "application/vnd.google.colaboratory.intrinsic+json": {
              "type": "dataframe",
              "variable_name": "clv_data",
              "summary": "{\n  \"name\": \"clv_data\",\n  \"rows\": 1000,\n  \"fields\": [\n    {\n      \"column\": \"customer_id\",\n      \"properties\": {\n        \"dtype\": \"string\",\n        \"num_unique_values\": 1000,\n        \"samples\": [\n          \"CS00522\",\n          \"CS00738\",\n          \"CS00741\"\n        ],\n        \"semantic_type\": \"\",\n        \"description\": \"\"\n      }\n    },\n    {\n      \"column\": \"CLV\",\n      \"properties\": {\n        \"dtype\": \"number\",\n        \"std\": 7897485.194295128,\n        \"min\": 19292819.205000002,\n        \"max\": 70084373.685,\n        \"num_unique_values\": 1000,\n        \"samples\": [\n          37381798.8578,\n          41693097.177600004,\n          36709267.3956\n        ],\n        \"semantic_type\": \"\",\n        \"description\": \"\"\n      }\n    }\n  ]\n}"
            }
          },
          "metadata": {},
          "execution_count": 8
        }
      ]
    },
    {
      "cell_type": "markdown",
      "source": [
        "calculating Average Order Value(Avo)"
      ],
      "metadata": {
        "id": "I6y98HkdXDRU"
      }
    },
    {
      "cell_type": "code",
      "source": [
        "# Step 1: Calculate Total Revenue and Total Number of Orders\n",
        "total_revenue = merged_data['total_order_value'].sum()\n",
        "total_orders = merged_data['order_id_x'].nunique()  # Counting unique orders\n",
        "\n",
        "# Average Order Value (AOV) calculation\n",
        "aov = total_revenue / total_orders\n",
        "\n",
        "# Step 2: Calculate Purchase Frequency\n",
        "# Count the number of purchases per customer and calculate the average\n",
        "purchase_frequency = merged_data.groupby('customer_id')['order_id_x'].nunique().mean()\n",
        "\n",
        "print(\"Average Order Value (AOV):\", aov)\n",
        "print(\"purchase_frequency:\", purchase_frequency)\n"
      ],
      "metadata": {
        "colab": {
          "base_uri": "https://localhost:8080/"
        },
        "id": "Ask0hY9RSFFT",
        "outputId": "b209d020-f9c3-46b1-a84a-42273fc64016"
      },
      "execution_count": 9,
      "outputs": [
        {
          "output_type": "stream",
          "name": "stdout",
          "text": [
            "Average Order Value (AOV): 845171.7637050686\n",
            "purchase_frequency: 50.0\n"
          ]
        }
      ]
    },
    {
      "cell_type": "markdown",
      "source": [
        "**Visualizetioins**"
      ],
      "metadata": {
        "id": "ll1O40-mn9US"
      }
    },
    {
      "cell_type": "code",
      "source": [
        "# Results from calculations\n",
        "aov = 845171.76\n",
        "purchase_frequency = 50.0\n",
        "\n",
        "# Create figure with two subplots\n",
        "fig, ax = plt.subplots(1, 2, figsize=(12, 5))\n",
        "\n",
        "# 1. Bar Chart for Average Order Value (AOV)\n",
        "ax[0].bar(['Average Order Value (AOV)'], [aov], color='skyblue')\n",
        "ax[0].set_title('Average Order Value (AOV)')\n",
        "ax[0].set_ylabel('Value (in currency units)')\n",
        "ax[0].text(0, aov, f\"{aov:,.2f}\", ha='center', va='bottom', fontweight='bold')\n",
        "\n",
        "# 2. Bar or Gauge Chart for Purchase Frequency\n",
        "ax[1].bar(['Purchase Frequency'], [purchase_frequency], color='lightcoral')\n",
        "ax[1].set_title('Purchase Frequency')\n",
        "ax[1].set_ylabel('Average Purchases per Customer')\n",
        "ax[1].text(0, purchase_frequency, f\"{purchase_frequency:.1f}\", ha='center', va='bottom', fontweight='bold')\n",
        "\n",
        "# Display the plot\n",
        "plt.tight_layout()\n",
        "plt.show()\n"
      ],
      "metadata": {
        "colab": {
          "base_uri": "https://localhost:8080/",
          "height": 507
        },
        "id": "bE7NIOX_oIqI",
        "outputId": "901264b5-45a9-42c1-82a4-5c4be8b693b0"
      },
      "execution_count": 26,
      "outputs": [
        {
          "output_type": "display_data",
          "data": {
            "text/plain": [
              "<Figure size 1200x500 with 2 Axes>"
            ],
            "image/png": "[encoded data removed]"
          },
          "metadata": {}
        }
      ]
    },
    {
      "cell_type": "markdown",
      "source": [
        "#**Interpreting AVO & Purchase_Frequency**\n",
        "\n",
        "- Avo represents the average revenue generated per order across all customers therefore if its this high as 845,171.76 it suggets that each order contributs significanly to total revenue. Meaning customers are buying a lot\n",
        "\n",
        "-- Purchase Frequency of 50.0 indicats that on average each customer makes 50 purchases within the observed timeframe. this means there is strong customer ingagement.\n",
        "\n",
        "\n",
        "#**Interpretation**\n",
        "- Interpretation:\n",
        "For AOV:\n",
        "Compare it against industry standards or past AOVs for your business to see if it’s high or low.\n",
        "If AOV is significantly high, investigate if there are specific products or categories driving it.\n",
        "For Purchase Frequency:\n",
        "If the frequency is higher than expected, it may point to high customer retention.\n",
        "Identify the reasons driving repeat purchases (e.g., subscription model, popular product categories).\n",
        "\n",
        "- Tracking these KPIs over time and segmenting them by customer demographics or purchase categories can offer even deeper insights into customer behavior and areas for potential growth"
      ],
      "metadata": {
        "id": "4x26bsb9Y4o-"
      }
    },
    {
      "cell_type": "markdown",
      "source": [
        "#**Customer Segments Insights**"
      ],
      "metadata": {
        "id": "VpDSskjueGTy"
      }
    },
    {
      "cell_type": "markdown",
      "source": [
        "**Creating Demographics and Bhavioral Segments**"
      ],
      "metadata": {
        "id": "TdcNXcG5ecrp"
      }
    },
    {
      "cell_type": "code",
      "source": [
        "# Create age segments\n",
        "#merged_data['age_group'] = pd.cut(merged_data['age'], bins=[18, 30, 45, 60, 100], labels=['18-30', '31-45', '46-60', '61+'])\n",
        "\n",
        "# Create frequency segments based on purchase frequency calculated previously\n",
        "# Define custom thresholds (e.g., Low: <20, Medium: 20-50, High: >50 purchases)\n",
        "merged_data['frequency_segment'] = pd.cut(\n",
        "    merged_data.groupby('customer_id')['order_id_x'].transform('nunique'),\n",
        "    bins=[0, 20, 50, float('inf')], labels=['Low', 'Medium', 'High']\n",
        ")\n",
        "\n",
        "# Calculate CLV segments based on quantiles (e.g., Top 25% as high-value)\n",
        "clv_data['CLV_segment'] = pd.qcut(clv_data['CLV'], q=4, labels=['Low', 'Medium', 'High', 'Very High'])\n",
        "\n",
        "# Merge CLV segments back to main data\n",
        "merged_data = merged_data.merge(clv_data[['customer_id', 'CLV_segment']], on='customer_id', how='left')\n"
      ],
      "metadata": {
        "id": "JpT5wz9kXlHs"
      },
      "execution_count": 10,
      "outputs": []
    },
    {
      "cell_type": "markdown",
      "source": [
        "Identifying high_value_segments"
      ],
      "metadata": {
        "id": "VI_GIj49fZSX"
      }
    },
    {
      "cell_type": "code",
      "source": [
        "# Revenue by age group and frequency segment\n",
        "age_freq_revenue = merged_data.groupby(['frequency_segment'])['total_order_value'].sum().reset_index()\n",
        "\n",
        "# Revenue by CLV segment\n",
        "clv_segment_revenue = merged_data.groupby('CLV_segment')['total_order_value'].sum().reset_index()\n",
        "\n",
        "print(\"Revenue by Age Group and Frequency Segment:\")\n",
        "print(age_freq_revenue)\n",
        "\n",
        "print(\"\\nRevenue by CLV Segment:\")\n",
        "print(clv_segment_revenue)\n"
      ],
      "metadata": {
        "colab": {
          "base_uri": "https://localhost:8080/"
        },
        "id": "md18Ishre5Uu",
        "outputId": "d1fd224b-ba6e-4c41-a0a7-8bd14c50050b"
      },
      "execution_count": 11,
      "outputs": [
        {
          "output_type": "stream",
          "name": "stdout",
          "text": [
            "Revenue by Age Group and Frequency Segment:\n",
            "  frequency_segment  total_order_value\n",
            "0               Low       0.000000e+00\n",
            "1            Medium       4.225859e+10\n",
            "2              High       0.000000e+00\n",
            "\n",
            "Revenue by CLV Segment:\n",
            "  CLV_segment  total_order_value\n",
            "0         Low       8.165555e+09\n",
            "1      Medium       9.822901e+09\n",
            "2        High       1.110303e+10\n",
            "3   Very High       1.316710e+10\n"
          ]
        }
      ]
    },
    {
      "cell_type": "markdown",
      "source": [
        "#**High_Value_Segments_visualisation**"
      ],
      "metadata": {
        "id": "X6Rb-hQ2l27V"
      }
    },
    {
      "cell_type": "code",
      "source": [
        "import matplotlib.pyplot as plt\n",
        "import seaborn as sns\n",
        "\n",
        "# Setting up data for the visuals based on user-provided results\n",
        "# Revenue by Frequency Segment\n",
        "frequency_segment_data = {\n",
        "    'frequency_segment': ['Low', 'Medium', 'High'],\n",
        "    'total_order_value': [0.0, 4.225859e+10, 0.0]\n",
        "}\n",
        "frequency_segment_df = pd.DataFrame(frequency_segment_data)\n",
        "\n",
        "# Revenue by CLV Segment\n",
        "clv_segment_data = {\n",
        "    'CLV_segment': ['Low', 'Medium', 'High', 'Very High'],\n",
        "    'total_order_value': [8.165555e+09, 9.822901e+09, 1.110303e+10, 1.316710e+10]\n",
        "}\n",
        "clv_segment_df = pd.DataFrame(clv_segment_data)\n",
        "\n",
        "# Plotting\n",
        "fig, (ax1, ax2) = plt.subplots(1, 2, figsize=(15, 6))\n",
        "\n",
        "# Bar plot for Revenue by Frequency Segment\n",
        "sns.barplot(data=frequency_segment_df, x='frequency_segment', y='total_order_value', palette='Blues', ax=ax1)\n",
        "ax1.set_title('Revenue by Frequency Segment')\n",
        "ax1.set_xlabel('Frequency Segment')\n",
        "ax1.set_ylabel('Total Revenue (in billions)')\n",
        "ax1.set_yticklabels([f\"{int(x/1e9)}B\" for x in ax1.get_yticks()])  # Format y-axis in billions\n",
        "\n",
        "# Bar plot for Revenue by CLV Segment\n",
        "sns.barplot(data=clv_segment_df, x='CLV_segment', y='total_order_value', palette='Greens', ax=ax2)\n",
        "ax2.set_title('Revenue by CLV Segment')\n",
        "ax2.set_xlabel('CLV Segment')\n",
        "ax2.set_ylabel('Total Revenue (in billions)')\n",
        "ax2.set_yticklabels([f\"{int(x/1e9)}B\" for x in ax2.get_yticks()])  # Format y-axis in billions\n",
        "\n",
        "plt.tight_layout()\n",
        "plt.show()\n"
      ],
      "metadata": {
        "colab": {
          "base_uri": "https://localhost:8080/",
          "height": 607
        },
        "id": "zDk8pICzmBYr",
        "outputId": "6ce5ff54-db63-4fc9-ba0c-9c6fe6b16396"
      },
      "execution_count": 24,
      "outputs": [
        {
          "output_type": "display_data",
          "data": {
            "text/plain": [
              "<Figure size 1500x600 with 2 Axes>"
            ],
            "image/png": "[encoded data removed]"
          },
          "metadata": {}
        }
      ]
    },
    {
      "cell_type": "markdown",
      "source": [
        "**Identifying top selling Products**"
      ],
      "metadata": {
        "id": "vWOnCu7igRe3"
      }
    },
    {
      "cell_type": "code",
      "source": [
        "# Calculate total quantity sold per product\n",
        "top_selling_products = merged_data.groupby('product_name_x')['quantity_y'].sum().reset_index()\n",
        "top_selling_products = top_selling_products.sort_values(by='quantity_y', ascending=False).head(10)  # Top 10 products\n",
        "\n",
        "print(\"Top Selling Products:\")\n",
        "print(top_selling_products)\n",
        "\n"
      ],
      "metadata": {
        "colab": {
          "base_uri": "https://localhost:8080/"
        },
        "id": "U6uPv52DfyKH",
        "outputId": "7c95aa3c-3a0f-4bee-d0e4-076bc5959773"
      },
      "execution_count": 12,
      "outputs": [
        {
          "output_type": "stream",
          "name": "stdout",
          "text": [
            "Top Selling Products:\n",
            "      product_name_x  quantity_y\n",
            "22      Sports Shoes      483107\n",
            "29  Wireless Speaker      471944\n",
            "24           T-Shirt      470644\n",
            "0     Activewear Set      469260\n",
            "28          Wall Art      468840\n",
            "8          Furniture      467202\n",
            "13             Jeans      467068\n",
            "10        Headphones      465772\n",
            "4           Curtains      465467\n",
            "3             Camera      464877\n"
          ]
        }
      ]
    },
    {
      "cell_type": "markdown",
      "source": [
        "Visualising Top selling produts"
      ],
      "metadata": {
        "id": "FRje6PmrmVEM"
      }
    },
    {
      "cell_type": "code",
      "source": [
        "import matplotlib.pyplot as plt\n",
        "import seaborn as sns\n",
        "import pandas as pd\n",
        "\n",
        "# Data for Top Selling Products\n",
        "top_selling_products = pd.DataFrame({\n",
        "    'product_name_x': ['Sports Shoes', 'Wireless Speaker', 'T-Shirt', 'Activewear Set', 'Wall Art',\n",
        "                       'Furniture', 'Jeans', 'Headphones', 'Curtains', 'Camera'],\n",
        "    'quantity_y': [483107, 471944, 470644, 469260, 468840, 467202, 467068, 465772, 465467, 464877]\n",
        "})\n",
        "\n",
        "# Set up the plot\n",
        "plt.figure(figsize=(10, 6))\n",
        "sns.barplot(\n",
        "    data=top_selling_products,\n",
        "    y='product_name_x',  # Product names on the y-axis for a horizontal bar chart\n",
        "    x='quantity_y',  # Quantity on the x-axis\n",
        "    palette='viridis'\n",
        ")\n",
        "\n",
        "# Titles and labels\n",
        "plt.title('Top 10 Selling Products by Quantity')\n",
        "plt.xlabel('Quantity Sold')\n",
        "plt.ylabel('Product Name')\n",
        "\n",
        "# Display the plot\n",
        "plt.tight_layout()\n",
        "plt.show()\n"
      ],
      "metadata": {
        "colab": {
          "base_uri": "https://localhost:8080/",
          "height": 607
        },
        "id": "OZKBgir_mMPw",
        "outputId": "becb21a4-9687-4661-b9a4-30c22098c6d3"
      },
      "execution_count": 25,
      "outputs": [
        {
          "output_type": "display_data",
          "data": {
            "text/plain": [
              "<Figure size 1000x600 with 1 Axes>"
            ],
            "image/png": "[encoded data removed]"
          },
          "metadata": {}
        }
      ]
    },
    {
      "cell_type": "markdown",
      "source": [
        "**High_Value_Segments**\n",
        "\n",
        "- I suggest the business focuses on these segments for loyalty programs, promotions, or tailored marketing efforts.\n",
        "\n",
        "\n",
        "\n"
      ],
      "metadata": {
        "id": "wT_wji3Ridci"
      }
    },
    {
      "cell_type": "markdown",
      "source": [
        "**Top_Selling_Products**\n",
        "\n",
        "- The business must identify trends of popular iteams to help optimize invetory or marketing strategies"
      ],
      "metadata": {
        "id": "4Kuad9QGi87j"
      }
    },
    {
      "cell_type": "markdown",
      "source": [
        "#**Calculating Churn Rate**"
      ],
      "metadata": {
        "id": "Vew-udFBkuwG"
      }
    },
    {
      "cell_type": "code",
      "source": [
        "# Convert the 'order_date' column to datetime format\n",
        "df_p['order_date'] = pd.to_datetime(df_p['order_date'], format='%d-%m-%Y')\n",
        "\n",
        "# Find the last purchase date for each customer\n",
        "last_purchase = df_p.groupby('customer_id')['order_date'].max().reset_index()\n",
        "last_purchase.columns = ['customer_id', 'last_purchase_date']\n",
        "\n",
        "# Merge the last purchase date with the customer data\n",
        "df_c = pd.merge(df_c, last_purchase, on='customer_id', how='left')\n",
        "\n",
        "# Define a churn period (e.g., 1 year)\n",
        "cutoff_date = df_p['order_date'].max() - pd.DateOffset(years=1)\n",
        "\n",
        "# Mark customers who have churned (those who haven't purchased in the last year)\n",
        "df_c['churned'] = df_c['last_purchase_date'] < cutoff_date\n",
        "\n",
        "# Calculate the churn rate\n",
        "total_customers = df_c.shape[0]\n",
        "churned_customers = df_c['churned'].sum()\n",
        "\n",
        "churn_rate = (churned_customers / total_customers) * 100\n",
        "churn_rate\n",
        "\n"
      ],
      "metadata": {
        "colab": {
          "base_uri": "https://localhost:8080/"
        },
        "id": "pnAOj-EggWgy",
        "outputId": "4b6cc910-3700-4dd5-c68e-0590fb0e79f8"
      },
      "execution_count": 13,
      "outputs": [
        {
          "output_type": "execute_result",
          "data": {
            "text/plain": [
              "0.0"
            ]
          },
          "metadata": {},
          "execution_count": 13
        }
      ]
    },
    {
      "cell_type": "markdown",
      "source": [
        "#**Interpreting Churn_rate**\n",
        "\n",
        "- Churn rate of 0.0% means that no customers have been inactive for more than a year."
      ],
      "metadata": {
        "id": "MJ0QEQx6nsh8"
      }
    },
    {
      "cell_type": "markdown",
      "source": [
        "#**Analysing Trands & Patterns**\n"
      ],
      "metadata": {
        "id": "dlOxYoJXo8r4"
      }
    },
    {
      "cell_type": "markdown",
      "source": [
        "**Purchase trends over time**"
      ],
      "metadata": {
        "id": "G24EoHhqpRfH"
      }
    },
    {
      "cell_type": "code",
      "source": [
        "# Extract the month and year from the 'order_date'\n",
        "df_p['year'] = df_p['order_date'].dt.year\n",
        "df_p['month'] = df_p['order_date'].dt.month"
      ],
      "metadata": {
        "id": "NWpQwAwwpLqr"
      },
      "execution_count": 14,
      "outputs": []
    },
    {
      "cell_type": "code",
      "source": [
        "# Create a 'year-month' column for monthly grouping\n",
        "df_p['year_month'] = df_p['order_date'].dt.to_period('M')"
      ],
      "metadata": {
        "id": "8hAhZsy3p4bS"
      },
      "execution_count": 15,
      "outputs": []
    },
    {
      "cell_type": "code",
      "source": [
        "# Group by 'year-month' to see monthly purchasing trends\n",
        "monthly_trends = df_p.groupby('year_month').size().reset_index(name='num_purchases')"
      ],
      "metadata": {
        "id": "n8wcVVwgp6Oy"
      },
      "execution_count": 16,
      "outputs": []
    },
    {
      "cell_type": "code",
      "source": [
        "# Plotting monthly purchasing trends\n",
        "plt.figure(figsize=(10, 6))\n",
        "plt.plot(monthly_trends['year_month'].astype(str), monthly_trends['num_purchases'], marker='o', linestyle='-')\n",
        "plt.xticks(rotation=45)\n",
        "plt.title('Monthly Purchasing Trends')\n",
        "plt.xlabel('Month')\n",
        "plt.ylabel('Number of Purchases')\n",
        "plt.tight_layout()\n",
        "plt.show()"
      ],
      "metadata": {
        "colab": {
          "base_uri": "https://localhost:8080/",
          "height": 607
        },
        "id": "GvCy0hZGp6Hx",
        "outputId": "3f5cf61f-bb38-40ea-cf22-e53e3f766925"
      },
      "execution_count": 17,
      "outputs": [
        {
          "output_type": "display_data",
          "data": {
            "text/plain": [
              "<Figure size 1000x600 with 1 Axes>"
            ],
            "image/png": "[encoded data removed]"
          },
          "metadata": {}
        }
      ]
    },
    {
      "cell_type": "markdown",
      "source": [
        "#**Interpretation of the above monthly trend**\n",
        "\n",
        "- If we focus on the spikes we can see that there are peak times as well as slow times. For example the month of Aug & Jan seem to bee the ones that have significant slow purchasing.\n",
        "- while Dec & March have the highest peack times.\n",
        "\n",
        "- We can see that there is consistency in thses patterns meaning the business must know that there is a recurring seasonal demand."
      ],
      "metadata": {
        "id": "uoWZZtTUrDHr"
      }
    },
    {
      "cell_type": "markdown",
      "source": [
        "#**Quarterly Purchasing Trends**"
      ],
      "metadata": {
        "id": "K78-AbHotWiz"
      }
    },
    {
      "cell_type": "code",
      "source": [
        "# Also group by quarter for quarterly trends\n",
        "df_p['quarter'] = df_p['order_date'].dt.to_period('Q')\n",
        "quarterly_trends = df_p.groupby('quarter').size().reset_index(name='num_purchases')"
      ],
      "metadata": {
        "id": "hDdMtZHJp5_0"
      },
      "execution_count": 18,
      "outputs": []
    },
    {
      "cell_type": "code",
      "source": [
        "# Plotting quarterly purchasing trends\n",
        "plt.figure(figsize=(10, 6))\n",
        "plt.plot(quarterly_trends['quarter'].astype(str), quarterly_trends['num_purchases'], marker='o', linestyle='-')\n",
        "plt.xticks(rotation=45)\n",
        "plt.title('Quarterly Purchasing Trends')\n",
        "plt.xlabel('Quarter')\n",
        "plt.ylabel('Number of Purchases')\n",
        "plt.tight_layout()\n",
        "plt.show()"
      ],
      "metadata": {
        "colab": {
          "base_uri": "https://localhost:8080/",
          "height": 607
        },
        "id": "lpp2mqiPp504",
        "outputId": "3e045dfa-8a86-4e7e-bb86-854993832f4a"
      },
      "execution_count": 28,
      "outputs": [
        {
          "output_type": "display_data",
          "data": {
            "text/plain": [
              "<Figure size 1000x600 with 1 Axes>"
            ],
            "image/png": "[encoded data removed]"
          },
          "metadata": {}
        }
      ]
    },
    {
      "cell_type": "markdown",
      "source": [
        "#**Interpreting Quarterly Trends**\n",
        "\n",
        "- Peaks in Q4 mybe driven by holiday demand\n",
        "- Drops in Q1 may reflact post holidays\n",
        "\n",
        "\n",
        "- Yearly Comparison:\n",
        "\n",
        "- If the quarterly pattern repeats year after year, it could highlight strong seasonal trends. For example, strong Q4s year-over-year would confirm the impact of year-end holidays or major events.\n",
        "Performance Across Years:\n",
        "\n",
        "- Check whether there is a steady improvement in sales over quarters each year. This would signal strong performance, especially if the quarterly numbers increase in the same period across years."
      ],
      "metadata": {
        "id": "SkopPeMuuaP_"
      }
    },
    {
      "cell_type": "markdown",
      "source": [
        "#**Further Insights:**\n",
        " - Seasonality: If certain months or quarters consistently perform better, consider planning more aggressive marketing strategies, inventory management, or promotional efforts during these periods.\n",
        "\n",
        "- Off-Season Strategies: If you see clear periods of decline, you might want to explore strategies to boost sales in low-demand periods, like offering discounts or targeting niche markets.\n",
        "\n",
        "- Impact of Marketing Campaigns: Spikes that don’t align with typical seasonality could be due to marketing efforts or promotions. If available, compare these trends with historical marketing activity to understand cause and effect."
      ],
      "metadata": {
        "id": "w_wvk-PiwTqe"
      }
    },
    {
      "cell_type": "markdown",
      "source": [
        "#**Downloading_new_merged_dataset**"
      ],
      "metadata": {
        "id": "AAO7l06hAzMD"
      }
    },
    {
      "cell_type": "code",
      "source": [
        "#Downloading new dataset\n",
        "from google.colab import files\n",
        "import pandas as pd\n",
        "\n",
        "# Assuming your dataset is in a Pandas DataFrame named 'df':\n",
        "# Replace 'df' with the actual name of your DataFrame.\n",
        "merged_data.to_csv('my_dataset.csv', index=False)  # Create the CSV file\n",
        "\n",
        "files.download('my_dataset.csv')"
      ],
      "metadata": {
        "colab": {
          "base_uri": "https://localhost:8080/",
          "height": 17
        },
        "id": "c3s0ZI5OBBSO",
        "outputId": "23902432-cffd-410f-ee6c-dfba3fc0271b"
      },
      "execution_count": 22,
      "outputs": [
        {
          "output_type": "display_data",
          "data": {
            "text/plain": [
              "<IPython.core.display.Javascript object>"
            ],
            "application/javascript": [
              "\n",
              "    async function download(id, filename, size) {\n",
              "      if (!google.colab.kernel.accessAllowed) {\n",
              "        return;\n",
              "      }\n",
              "      const div = document.createElement('div');\n",
              "      const label = document.createElement('label');\n",
              "      label.textContent = `Downloading \"${filename}\": `;\n",
              "      div.appendChild(label);\n",
              "      const progress = document.createElement('progress');\n",
              "      progress.max = size;\n",
              "      div.appendChild(progress);\n",
              "      document.body.appendChild(div);\n",
              "\n",
              "      const buffers = [];\n",
              "      let downloaded = 0;\n",
              "\n",
              "      const channel = await google.colab.kernel.comms.open(id);\n",
              "      // Send a message to notify the kernel that we're ready.\n",
              "      channel.send({})\n",
              "\n",
              "      for await (const message of channel.messages) {\n",
              "        // Send a message to notify the kernel that we're ready.\n",
              "        channel.send({})\n",
              "        if (message.buffers) {\n",
              "          for (const buffer of message.buffers) {\n",
              "            buffers.push(buffer);\n",
              "            downloaded += buffer.byteLength;\n",
              "            progress.value = downloaded;\n",
              "          }\n",
              "        }\n",
              "      }\n",
              "      const blob = new Blob(buffers, {type: 'application/binary'});\n",
              "      const a = document.createElement('a');\n",
              "      a.href = window.URL.createObjectURL(blob);\n",
              "      a.download = filename;\n",
              "      div.appendChild(a);\n",
              "      a.click();\n",
              "      div.remove();\n",
              "    }\n",
              "  "
            ]
          },
          "metadata": {}
        },
        {
          "output_type": "display_data",
          "data": {
            "text/plain": [
              "<IPython.core.display.Javascript object>"
            ],
            "application/javascript": [
              "download(\"download_e5e7da55-9f73-4a52-8838-0ead8eb32591\", \"my_dataset.csv\", 744155395)"
            ]
          },
          "metadata": {}
        }
      ]
    },
    {
      "cell_type": "markdown",
      "source": [
        "#**THE END**"
      ],
      "metadata": {
        "id": "bvUqQKmpBC_j"
      }
    }
  ]
}